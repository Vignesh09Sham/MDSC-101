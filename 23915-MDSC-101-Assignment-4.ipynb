{
 "cells": [
  {
   "cell_type": "code",
   "execution_count": 4,
   "metadata": {},
   "outputs": [],
   "source": [
    "import numpy as np\n",
    "from numpy import linalg as LA"
   ]
  },
  {
   "cell_type": "code",
   "execution_count": 29,
   "metadata": {},
   "outputs": [
    {
     "name": "stdout",
     "output_type": "stream",
     "text": [
      "M: [[1, 2, 3], [4, 5, 6]]\n"
     ]
    }
   ],
   "source": [
    "row = int(input(\"Enter the number of rows of the matrix: \"))\n",
    "col = int(input(\"Enter the number of column of the matrix: \")) \n",
    "\n",
    "matrix = []\n",
    "for x in range(0, row):\n",
    "\tlist_x = []\n",
    "\tmatrix.append(list_x)\n",
    "\tfor y in range(0, col):\n",
    "\t\tlist_x.append(int(input(\"Enter the element of row \" + str(x+1) +\" of the Matrix:\")))\n",
    "\t\t\n",
    "print(\"M:\",matrix)\n"
   ]
  },
  {
   "cell_type": "code",
   "execution_count": 66,
   "metadata": {},
   "outputs": [
    {
     "name": "stdout",
     "output_type": "stream",
     "text": [
      "[[14 32]\n",
      " [32 77]]\n"
     ]
    }
   ],
   "source": [
    "matrix_trans = np.transpose(matrix)\n",
    "A_AT = np.matmul(matrix, matrix_trans)\n",
    "print(A_AT)"
   ]
  },
  {
   "cell_type": "code",
   "execution_count": 67,
   "metadata": {},
   "outputs": [
    {
     "name": "stdout",
     "output_type": "stream",
     "text": [
      "[ 0.59732747 90.40267253]\n",
      "[[-0.92236578 -0.3863177 ]\n",
      " [ 0.3863177  -0.92236578]]\n"
     ]
    }
   ],
   "source": [
    "A_ATeigval, A_ATeigvec = LA.eig(A_AT)\n",
    "print(A_ATeigval)\n",
    "print(A_ATeigvec)"
   ]
  },
  {
   "cell_type": "code",
   "execution_count": 68,
   "metadata": {},
   "outputs": [
    {
     "name": "stdout",
     "output_type": "stream",
     "text": [
      "[[17 22 27]\n",
      " [22 29 36]\n",
      " [27 36 45]]\n"
     ]
    }
   ],
   "source": [
    "AT_A = np.matmul(matrix_trans, matrix)\n",
    "print(AT_A)"
   ]
  },
  {
   "cell_type": "code",
   "execution_count": 69,
   "metadata": {},
   "outputs": [
    {
     "name": "stdout",
     "output_type": "stream",
     "text": [
      "[ 9.04026725e+01  5.97327474e-01 -4.04484173e-15]\n",
      "[[-0.42866713 -0.80596391  0.40824829]\n",
      " [-0.56630692 -0.11238241 -0.81649658]\n",
      " [-0.7039467   0.58119908  0.40824829]]\n"
     ]
    }
   ],
   "source": [
    "AT_Aeigval, AT_Aeigvec = LA.eig(AT_A)\n",
    "print(AT_Aeigval)\n",
    "print(AT_Aeigvec)"
   ]
  },
  {
   "cell_type": "code",
   "execution_count": 70,
   "metadata": {},
   "outputs": [
    {
     "name": "stdout",
     "output_type": "stream",
     "text": [
      "[[0.7728696356734833, 0, 0], [0, 9.508032000695724, 0]]\n"
     ]
    }
   ],
   "source": [
    "lambda_mat= []\n",
    "for i in range(len(A_ATeigval)):\n",
    "    list = []\n",
    "    lambda_mat.append(list)\n",
    "    for y in range(0, col):\n",
    "        if(y == i):\n",
    "            list.append(np.sqrt(A_ATeigval[i]))\n",
    "        else:\n",
    "            list.append(0)\n",
    "\n",
    "print(lambda_mat)"
   ]
  },
  {
   "cell_type": "code",
   "execution_count": 71,
   "metadata": {},
   "outputs": [
    {
     "name": "stdout",
     "output_type": "stream",
     "text": [
      "[[-0.92236578 -0.3863177 ]\n",
      " [ 0.3863177  -0.92236578]]\n",
      "[[-0.42866713 -0.56630692 -0.7039467 ]\n",
      " [-0.80596391 -0.11238241  0.58119908]\n",
      " [ 0.40824829 -0.81649658  0.40824829]]\n"
     ]
    }
   ],
   "source": [
    "U = A_ATeigvec\n",
    "V_T = np.transpose(AT_Aeigvec)\n",
    "\n",
    "print(U)\n",
    "print(V_T)"
   ]
  },
  {
   "cell_type": "code",
   "execution_count": 72,
   "metadata": {},
   "outputs": [
    {
     "name": "stdout",
     "output_type": "stream",
     "text": [
      "[[ 3.26598632  0.81649658 -1.63299316]\n",
      " [ 6.94022094  0.81649658 -5.30722778]]\n"
     ]
    }
   ],
   "source": [
    "Intermediate_A= np.matmul(U, lambda_mat)\n",
    "\n",
    "A = np.matmul(Intermediate_A, V_T)\n",
    "print(A)"
   ]
  },
  {
   "cell_type": "code",
   "execution_count": null,
   "metadata": {},
   "outputs": [],
   "source": []
  }
 ],
 "metadata": {
  "kernelspec": {
   "display_name": "base",
   "language": "python",
   "name": "python3"
  },
  "language_info": {
   "codemirror_mode": {
    "name": "ipython",
    "version": 3
   },
   "file_extension": ".py",
   "mimetype": "text/x-python",
   "name": "python",
   "nbconvert_exporter": "python",
   "pygments_lexer": "ipython3",
   "version": "3.10.9"
  },
  "orig_nbformat": 4
 },
 "nbformat": 4,
 "nbformat_minor": 2
}
