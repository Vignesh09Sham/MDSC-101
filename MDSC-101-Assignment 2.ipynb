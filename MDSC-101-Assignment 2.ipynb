{
 "cells": [
  {
   "cell_type": "markdown",
   "metadata": {},
   "source": [
    "Cofactor, Determinant and Inverse"
   ]
  },
  {
   "cell_type": "code",
   "execution_count": 1,
   "metadata": {},
   "outputs": [
    {
     "name": "stdout",
     "output_type": "stream",
     "text": [
      "[[1, 2, 3], [4, 5, 6], [7, 9, 9]]\n",
      "Determinant: 6\n",
      "Cofactor: [[-9, 6, 1], [9, -12, 5], [-3, 6, -3]]\n",
      "Inverse: [[-1.5, 1.5, -0.5], [1.0, -2.0, 1.0], [0.16666666666666666, 0.8333333333333333, -0.5]]\n"
     ]
    }
   ],
   "source": [
    "#Now, we trynna find the determinant of a square matrix\n",
    "rows = int(input(\"Enter the number of rows of the matrix:\"))\n",
    "cols = int(input(\"Enter the number of columns of the matrix:\"))\n",
    "\n",
    "matrix = []\n",
    "for x in range(0, rows):\n",
    "\tlist_x = []\n",
    "\tmatrix.append(list_x)\n",
    "\tfor y in range(0, cols):\n",
    "\t\tlist_x.append(int(input(\"Enter the element of row \" + str(x+1) +\" of Matrix 1:\")))\n",
    "\n",
    "print(matrix)\n",
    "\n",
    "#Creating a sub-matrix\n",
    "\n",
    "#Finding the determinant of a 2x2 matrix\n",
    "\"\"\"\n",
    "def determinant(mat):\n",
    "    temp_det1 = 1\n",
    "    temp_det2 = 1\n",
    "    for i in range(0, rows):\n",
    "        for j in range(0, cols):\n",
    "            if((i == 0 and j == 0) or (i == 1 and j == 1)):\n",
    "                temp_det1 *= mat[i][j]\n",
    "            else:\n",
    "                temp_det2 *= mat[i][j]\n",
    "    det = temp_det1 - temp_det2\n",
    "\n",
    "    return det\n",
    "\"\"\"\n",
    "def subMatrix(matrix,k,l):\n",
    "        subMat=[]\n",
    "        for i in range(len(matrix)):\n",
    "                if i!=k:\n",
    "                        row=[]\n",
    "                        for j in range(len(matrix)):\n",
    "                                if j!=l:\n",
    "                                        row.append(matrix[i][j])\n",
    "                        subMat.append(row)\n",
    "        return subMat\n",
    "\n",
    "def determinant(matrix):\n",
    "        if (len(matrix)) == 1:\n",
    "                return matrix[0][0]\n",
    "\n",
    "        result=0\n",
    "        for i in range(len(matrix)):\n",
    "                subMat=subMatrix(matrix,0,i)\n",
    "                if (i%2) == 0:\n",
    "                        result+=(matrix[0][i]*determinant(subMat))\n",
    "                else:\n",
    "                        result-=(matrix[0][i]*determinant(subMat))\n",
    "        return result\n",
    "\n",
    "def cofactor(matrix):\n",
    "        if (len(matrix)) == 1:\n",
    "                return matrix\n",
    "\n",
    "        cofactorMat=[]\n",
    "        for i in range(len(matrix)):\n",
    "                row=[]\n",
    "                for j in range(len(matrix)):\n",
    "                        subMat=subMatrix(matrix,i,j)\n",
    "                        det=determinant(subMat)\n",
    "                        row.append(((-1)**(i+j))*det)\n",
    "                cofactorMat.append(row)\n",
    "        return cofactorMat\n",
    "\n",
    "def inverse(cofactMat,det):\n",
    "        inverseMatrix=[]\n",
    "        for i in range(len(cofactMat)):\n",
    "                row=[]\n",
    "                for j in range(len(cofactMat)):\n",
    "                        row.append((1/det)*cofactMat[j][i])\n",
    "                inverseMatrix.append(row)\n",
    "        return inverseMatrix\n",
    "\n",
    "print(\"Determinant:\", determinant(matrix))\n",
    "print(\"Cofactor:\", cofactor(matrix))\n",
    "print(\"Inverse:\", inverse(cofactor(matrix),determinant(matrix)))"
   ]
  },
  {
   "cell_type": "code",
   "execution_count": null,
   "metadata": {},
   "outputs": [],
   "source": []
  }
 ],
 "metadata": {
  "kernelspec": {
   "display_name": "base",
   "language": "python",
   "name": "python3"
  },
  "language_info": {
   "codemirror_mode": {
    "name": "ipython",
    "version": 3
   },
   "file_extension": ".py",
   "mimetype": "text/x-python",
   "name": "python",
   "nbconvert_exporter": "python",
   "pygments_lexer": "ipython3",
   "version": "3.11.4"
  },
  "orig_nbformat": 4,
  "vscode": {
   "interpreter": {
    "hash": "4acffa6f7f048c29437950af0878308e3d3b4ce51b9513ba312b63a4888b581b"
   }
  }
 },
 "nbformat": 4,
 "nbformat_minor": 2
}
